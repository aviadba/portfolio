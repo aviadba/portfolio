{
 "cells": [
  {
   "cell_type": "code",
   "execution_count": null,
   "metadata": {
    "vscode": {
     "languageId": "plaintext"
    }
   },
   "outputs": [],
   "source": [
    "# Identify numerical columns with more than 10 unique values\n",
    "numerical_cols = df.select_dtypes(include=['number'])  # Select numerical columns\n",
    "cont_numerical_df = numerical_cols.loc[:, numerical_cols.nunique() > 10]\n",
    "cont_numerical_cols = cont_numerical_df.columns\n",
    "# determine the grid size for plotting the continuous numerical columns\n",
    "grid_cols = 5\n",
    "num_plots = len(cont_numerical_cols)\n",
    "grid_rows = (num_plots // grid_cols) + (num_plots % grid_cols)\n",
    "\n",
    "# Create subplots with the calculated number of rows and columns\n",
    "fig, axs = plt.subplots(grid_rows, grid_cols, figsize=(15, 3*grid_rows))\n",
    "\n",
    "# Flatten axs array for easier indexing\n",
    "axs = axs.flatten()\n",
    "\n",
    "# Plot each column\n",
    "for i in range(num_plots):\n",
    "        col = cont_numerical_df[cont_numerical_cols[i]]\n",
    "        sns.histplot(col, ax=axs[i], kde=True)\n",
    "        plt.xlabel(cont_numerical_cols[i])\n",
    "        plt.ylabel('Frequency')\n",
    "# Turn off any unused subplots\n",
    "for j in range(num_plots, len(axs)):\n",
    "    axs[j].axis('off')\n",
    "plt.tight_layout()\n",
    "plt.show()"
   ]
  }
 ],
 "metadata": {
  "language_info": {
   "name": "python"
  }
 },
 "nbformat": 4,
 "nbformat_minor": 2
}
